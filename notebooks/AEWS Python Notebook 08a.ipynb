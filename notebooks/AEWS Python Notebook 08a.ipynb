{
 "cells": [
  {
   "cell_type": "markdown",
   "metadata": {},
   "source": [
    "# AEWS Python Notebook 08a: AEWS miscellanea\n",
    "\n",
    "**Author**: Eric Lehmann, CSIRO Data61  \n",
    "**Date**:  June 07, 2016\n",
    "\n",
    "**Note**: The Python code below is \"rudimentary\" etc. etc. Priority is here given to code interpretability rather than execution efficiency.\n",
    "\n",
    "**Note**: this notebook should be accessible and viewable at [https://github.com/eric542/agdc_v2/tree/master/notebooks](https://github.com/eric542/agdc_v2/tree/master/notebooks).\n",
    "\n",
    "## Summary\n",
    "\n",
    "Building up on the concepts introduced in the previous notebooks in this series, we work out the remaining components of the AEWS implementation, which include:\n",
    "\n",
    "* (08a) reading extents from lakes / waterbodies of interest from a `.shp` file\n",
    "* (08b) checking for data availability over ROIs: check for available dates and for empty time slices\n",
    "* (08b) working out the \"units\" and range of values in L5, L7 and L8 data\n",
    "* (08b) implementing the SWIR \"glint\" filter\n",
    "* (08b) implementing green / amber / red thresholds\n",
    "* (08c) generating the WOFS mask when ROI is across multiple tiles\n",
    "* (08c) compare the SWIR vs. WOFS extents (\"low water\" flagging)\n",
    "* (08d) using lakes polygons from `.shp` file to generate masks of lakes boundaries, and proper low-water flag (comparison of SWIR filter output against polygon extents)\n",
    "* (08e) basic handling of netCDF (`.nc`) files and data: creating, loading, and updating netCDF datasets\n",
    "* (08f) checking for new Landsat data after a WQ dataset has been created: checking for the latest available dates for a given ROI, add the WQ results to existing dataset\n",
    "* (08g) working out what AGDC API does in terms of PQ masking, implement own PQ masking to avoid issues when AGDC database contains different dates of NBAR and PQ data.\n",
    "* (08h) working out how to access and combine data from multiple satellites, for joint processing\n",
    "* (08i) testing of computational requirements and related issues\n",
    "\n",
    "As indicated at the beginning of each line, these various tasks have been implemented / tested in separate notebooks for ease of use.\n",
    "\n",
    "**Abstract**  &mdash; In the notebook below (08a), we simply work out the code necessary to read in .shp files and access the various fields and layers within it.\n",
    "\n",
    "\n",
    "## Preliminaries\n",
    "\n",
    "This (Jupyter) notebook was written for use on the NCI's VDI system, with the following pre-loaded module:\n",
    "\n",
    "```\n",
    " $ module use /g/data/v10/public/modules/modulefiles --append\n",
    " $ module load agdc-py2-prod \n",
    "```\n",
    "\n",
    "**NOTE**: the specific module loaded here (`agdc-py2-prod`) is different from the module loaded in earlier notebooks (`agdc-py2-dev`)! While the earlier module contained only Landsat 5 data, the `agdc-py2-prod` module links to a (different) AGDC database containing the following NBART/NBAR/PQA datasets:\n",
    "\n",
    "* Landsat 8: 2013\n",
    "* Landsat 7: 2013\n",
    "* Landsat 5: 2006/2007\n",
    "\n",
    "It is unclear whether the API functions in these 2 modules are identical or represent different versions."
   ]
  },
  {
   "cell_type": "code",
   "execution_count": 1,
   "metadata": {
    "collapsed": false
   },
   "outputs": [
    {
     "data": {
      "text/html": [
       "<style>\n",
       "    div.warn { background-color: #e8c9c9; border-left: 5px solid #c27070; padding: 0.5em }\n",
       "    div.note { background-color: #cce0ff; border-left: 5px solid #5c85d6; padding: 0.5em }\n",
       "    div.info { background-color: #ffe680; border-left: 5px solid #cca300; padding: 0.5em }\n",
       "</style>"
      ],
      "text/plain": [
       "<IPython.core.display.HTML object>"
      ]
     },
     "metadata": {},
     "output_type": "display_data"
    }
   ],
   "source": [
    "%%html  # Definitions for some pretty text boxes...\n",
    "<style>\n",
    "    div.warn { background-color: #e8c9c9; border-left: 5px solid #c27070; padding: 0.5em }\n",
    "    div.note { background-color: #cce0ff; border-left: 5px solid #5c85d6; padding: 0.5em }\n",
    "    div.info { background-color: #ffe680; border-left: 5px solid #cca300; padding: 0.5em }\n",
    "</style>"
   ]
  },
  {
   "cell_type": "code",
   "execution_count": 2,
   "metadata": {
    "collapsed": true
   },
   "outputs": [],
   "source": [
    "import numpy as np\n",
    "import ogr\n",
    "import json\n",
    "\n",
    "from pprint import pprint\n",
    "from __future__ import print_function"
   ]
  },
  {
   "cell_type": "markdown",
   "metadata": {},
   "source": [
    "## ROIs from shape file\n",
    "\n",
    "Let's see how we can import regions of interest from a given .shp file. We'll use the file provided by DPI Water containing the lakes and waterbodies of interest in NSW. They provided two shape files, the first of which contains the *vectors* for all lakes in NSW."
   ]
  },
  {
   "cell_type": "code",
   "execution_count": 3,
   "metadata": {
    "collapsed": false
   },
   "outputs": [],
   "source": [
    "lakes_file = '../NSW_lakes/NSW_Lakes.shp'\n",
    "lakes_vec = ogr.Open(lakes_file)\n",
    "lakes_lyr = lakes_vec.GetLayer(0)"
   ]
  },
  {
   "cell_type": "code",
   "execution_count": 4,
   "metadata": {
    "collapsed": false
   },
   "outputs": [
    {
     "name": "stdout",
     "output_type": "stream",
     "text": [
      "Nr of layers in the dataset: 1\n",
      "Dataset metadata: {}\n",
      "\n",
      "Layer description: NSW_Lakes\n",
      "Layer extents: (140.98906536096615, 153.5651335231402, -37.47082809926553, -28.217064921946303)\n",
      "There are 430 features in the layer.\n",
      "Layer metadata: {'DBF_DATE_LAST_UPDATE': '2016-04-29'}\n",
      "Layer CRS:\n",
      " GEOGCS[\"GCS_GDA_1994\",\n",
      "    DATUM[\"Geocentric_Datum_of_Australia_1994\",\n",
      "        SPHEROID[\"GRS_1980\",6378137.0,298.257222101]],\n",
      "    PRIMEM[\"Greenwich\",0.0],\n",
      "    UNIT[\"Degree\",0.0174532925199433]]\n",
      "\n",
      "Feature field count: 26\n",
      "Feature fields:\n",
      "{'ATTRIBUTER': '1985/01/01',\n",
      " 'CAPTUREMET': 8,\n",
      " 'CAPTURESOU': 1,\n",
      " 'CLASSSUBTY': 1,\n",
      " 'CREATEDATE': '1998/12/15',\n",
      " 'ENDDATE': '3000/01/01',\n",
      " 'FEATUREMOD': '2006/01/16',\n",
      " 'FEATUREREL': '1985/01/01',\n",
      " 'HYDRONAME': 'TARGET',\n",
      " 'HYDRONAMEO': 16303,\n",
      " 'HYDRONAMET': 'LAKE',\n",
      " 'HYDROTYPE': 1,\n",
      " 'ISPROCESSE': 'Y',\n",
      " 'LASTUPDATE': '2010/09/18',\n",
      " 'OBJECTID': 49668,\n",
      " 'OBJECTMODD': '2006/01/16',\n",
      " 'PACKETID': 0.0,\n",
      " 'PERENNIALI': 1,\n",
      " 'PLANIMETRI': 20.0,\n",
      " 'RECORDSTAT': None,\n",
      " 'RELEVANCE': 10,\n",
      " 'STARTDATE': '2006/01/16',\n",
      " 'Shape_Area': 0.0,\n",
      " 'Shape_Leng': 0.0116133707126,\n",
      " 'TOPOID': 503757865,\n",
      " 'VERTICALAC': 0.0}\n",
      "\n",
      "Feature coordinates:\n",
      " POLYGON ((153.399275873577494 -29.200752271526255 -1000,153.399388425307734 -29.200407965062539 -1000,153.399436732194772 -29.200278821005725 -1000,153.399468545359014 -29.200106748449741 -1000,153.399614066607 -29.199833965580751 -1000,153.399663727054985 -29.19972802030361 -1000,153.399694805172885 -29.199661722709095 -1000,153.399792288453114 -29.199575390619771 -1000,153.399921486293806 -29.199302661534659 -1000,153.400018548266985 -29.199130355915202 -1000,153.400213012844574 -29.198857393766616 -1000,153.400342291361085 -29.198598998085231 -1000,153.400535429269553 -29.19805377297854 -1000,153.400665120129133 -29.197881350827288 -1000,153.400803228165728 -29.197731813716473 -1000,153.400811188179773 -29.197723199331847 -1000,153.401282872796287 -29.197420566410244 -1000,153.401688941080806 -29.197046526425538 -1000,153.401787249047061 -29.197132150360517 -1000,153.401836819855362 -29.197260935858139 -1000,153.401918956802206 -29.197375271420356 -1000,153.401919234685579 -29.19743259607111 -1000,153.401968877205604 -29.197575706008422 -1000,153.401969997703077 -29.1978049777195 -1000,153.401825103933788 -29.198206725365651 -1000,153.401777209389707 -29.198421842952655 -1000,153.401696748707195 -29.198651410475065 -1000,153.401697098302407 -29.198723059565509 -1000,153.401648639027599 -29.198823536814984 -1000,153.401632674179609 -29.198895239689307 -1000,153.401567497082624 -29.199022581986185 -1000,153.401466912265391 -29.199031716281581 -1000,153.401375497599474 -29.198995161171979 -1000,153.401293226192934 -29.198903737542139 -1000,153.40120181152713 -29.198912880801515 -1000,153.401146969898718 -29.198976865689247 -1000,153.40111954012059 -29.199150551761647 -1000,153.401082976047064 -29.199241957463528 -1000,153.401028134418652 -29.199379079462403 -1000,153.400991561381147 -29.199534470052015 -1000,153.400909289974607 -29.199653314496061 -1000,153.400836161827556 -29.199735585902545 -1000,153.400799597753917 -29.199845278123234 -1000,153.400726469606866 -29.199991543381486 -1000,153.400653350423681 -29.200101235602119 -1000,153.400598490867424 -29.200037241750408 -1000,153.400598490867424 -29.199936692789151 -1000,153.400543649239012 -29.199817857309085 -1000,153.400424813758946 -29.199717308347772 -1000,153.400342542352519 -29.199680735310267 -1000,153.400223706872453 -29.199708165088396 -1000,153.40019627709421 -29.199781302199483 -1000,153.400177999539437 -29.19987270790142 -1000,153.400132301170515 -29.199936692789151 -1000,153.400068298354768 -29.200009820936259 -1000,153.399940328579305 -29.200046393973821 -1000,153.399858057172878 -29.200064671528594 -1000,153.399757499247585 -29.200174363749284 -1000,153.399675227841044 -29.200348049821685 -1000,153.399629511544163 -29.200476028561127 -1000,153.399583813175127 -29.200613141595966 -1000,153.399583813175127 -29.200795970927743 -1000,153.399538114806205 -29.200923949667185 -1000,153.399510685028076 -29.20107021492538 -1000,153.399519828287453 -29.201152477367941 -1000,153.399519496620201 -29.201284561610123 -1000,153.399392306710979 -29.201210402605341 -1000,153.399375714384405 -29.201153140702445 -1000,153.399326421459477 -29.201081670891597 -1000,153.399276223172706 -29.200823920616699 -1000,153.399275873577494 -29.200752271526255 -1000))\n"
     ]
    }
   ],
   "source": [
    "print( \"Nr of layers in the dataset:\", lakes_vec.GetLayerCount() )\n",
    "print( \"Dataset metadata:\", lakes_vec.GetMetadata() )\n",
    "\n",
    "print( \"\\nLayer description:\", lakes_lyr.GetDescription() )\n",
    "print( \"Layer extents:\", lakes_lyr.GetExtent() )\n",
    "print( \"There are\", lakes_lyr.GetFeatureCount(), \"features in the layer.\" )\n",
    "print( \"Layer metadata:\", lakes_lyr.GetMetadata() )\n",
    "print( \"Layer CRS:\\n\", lakes_lyr.GetSpatialRef() )\n",
    "\n",
    "lakes_feat_X = lakes_lyr.GetFeature(100)\n",
    "\n",
    "print( \"\\nFeature field count:\", lakes_feat_X.GetFieldCount() )\n",
    "print( \"Feature fields:\" )\n",
    "pprint( lakes_feat_X.items() )\n",
    "print( \"\\nFeature coordinates:\\n\", lakes_feat_X.GetGeometryRef() )\n",
    "\n",
    "#print( \"\\nFeature in json format:\" )\n",
    "#pprint( json.loads( lakes_feat_X.ExportToJson() ) )   # long outputs..."
   ]
  },
  {
   "cell_type": "markdown",
   "metadata": {},
   "source": [
    "The second .shp file contains only the _extents_ of each lakes (bounding box):"
   ]
  },
  {
   "cell_type": "code",
   "execution_count": 5,
   "metadata": {
    "collapsed": true
   },
   "outputs": [],
   "source": [
    "env_file = '../NSW_lakes/NSW_Lakes_envelope.shp'\n",
    "env_vec = ogr.Open(env_file)\n",
    "env_lyr = env_vec.GetLayer(0)"
   ]
  },
  {
   "cell_type": "code",
   "execution_count": 6,
   "metadata": {
    "collapsed": false
   },
   "outputs": [
    {
     "name": "stdout",
     "output_type": "stream",
     "text": [
      "Nr of layers in the dataset: 1\n",
      "Dataset metadata: {}\n",
      "\n",
      "Layer description: NSW_Lakes_envelope\n",
      "Layer extents: (140.98906536096626, 153.56513352314028, -37.47082809926553, -28.217064921946303)\n",
      "There are 430 features in the layer.\n",
      "Layer metadata: {'DBF_DATE_LAST_UPDATE': '2016-04-29'}\n",
      "Layer CRS:\n",
      " GEOGCS[\"GCS_GDA_1994\",\n",
      "    DATUM[\"Geocentric_Datum_of_Australia_1994\",\n",
      "        SPHEROID[\"GRS_1980\",6378137.0,298.257222101]],\n",
      "    PRIMEM[\"Greenwich\",0.0],\n",
      "    UNIT[\"Degree\",0.0174532925199433]]\n",
      "\n",
      "Feature field count: 31\n",
      "Feature fields:\n",
      "{'ATTRIBUTER': '2011/09/16',\n",
      " 'CAPTUREMET': 2,\n",
      " 'CAPTURESOU': 4,\n",
      " 'CLASSSUBTY': 1,\n",
      " 'CREATEDATE': '2013/01/18',\n",
      " 'ENDDATE': '3000/01/01',\n",
      " 'EXT_MAX_X': 151.844189421,\n",
      " 'EXT_MAX_Y': -32.693869181,\n",
      " 'EXT_MIN_X': 151.770721942,\n",
      " 'EXT_MIN_Y': -32.7694036189,\n",
      " 'FEATUREMOD': '2015/08/21',\n",
      " 'FEATUREREL': '2011/09/16',\n",
      " 'HYDRONAME': 'GRAHAMSTOWN',\n",
      " 'HYDRONAMEO': 4380,\n",
      " 'HYDRONAMET': 'LAKE',\n",
      " 'HYDROTYPE': 1,\n",
      " 'ISPROCESSE': 'Y',\n",
      " 'LASTUPDATE': '2015/08/21',\n",
      " 'OBJECTID': 466459,\n",
      " 'OBJECTMODD': '2015/08/21',\n",
      " 'ORIG_FID': 429,\n",
      " 'PACKETID': 17960.0,\n",
      " 'PERENNIALI': 1,\n",
      " 'PLANIMETRI': 10.0,\n",
      " 'RECORDSTAT': None,\n",
      " 'RELEVANCE': 10,\n",
      " 'STARTDATE': '2015/08/21',\n",
      " 'Shape_Area': 0.0,\n",
      " 'Shape_Leng': 0.524336034911,\n",
      " 'TOPOID': 517337894,\n",
      " 'VERTICALAC': 0.0}\n",
      "\n",
      "Feature coordinates:\n",
      " POLYGON ((151.770721942438513 -32.769403618894899 0,151.770721942438513 -32.693869181041464 0,151.844189421012288 -32.693869181041464 0,151.844189421012288 -32.769403618894899 0,151.770721942438513 -32.769403618894899 0))\n",
      "\n",
      "Feature in json format:\n",
      "{u'geometry': {u'coordinates': [[[151.7707219424385,\n",
      "                                  -32.7694036188949,\n",
      "                                  0.0],\n",
      "                                 [151.7707219424385,\n",
      "                                  -32.693869181041464,\n",
      "                                  0.0],\n",
      "                                 [151.8441894210123,\n",
      "                                  -32.693869181041464,\n",
      "                                  0.0],\n",
      "                                 [151.8441894210123,\n",
      "                                  -32.7694036188949,\n",
      "                                  0.0],\n",
      "                                 [151.7707219424385,\n",
      "                                  -32.7694036188949,\n",
      "                                  0.0]]],\n",
      "               u'type': u'Polygon'},\n",
      " u'id': 429,\n",
      " u'properties': {u'ATTRIBUTER': u'2011/09/16',\n",
      "                 u'CAPTUREMET': 2,\n",
      "                 u'CAPTURESOU': 4,\n",
      "                 u'CLASSSUBTY': 1,\n",
      "                 u'CREATEDATE': u'2013/01/18',\n",
      "                 u'ENDDATE': u'3000/01/01',\n",
      "                 u'EXT_MAX_X': 151.844189421,\n",
      "                 u'EXT_MAX_Y': -32.693869181,\n",
      "                 u'EXT_MIN_X': 151.770721942,\n",
      "                 u'EXT_MIN_Y': -32.7694036189,\n",
      "                 u'FEATUREMOD': u'2015/08/21',\n",
      "                 u'FEATUREREL': u'2011/09/16',\n",
      "                 u'HYDRONAME': u'GRAHAMSTOWN',\n",
      "                 u'HYDRONAMEO': 4380,\n",
      "                 u'HYDRONAMET': u'LAKE',\n",
      "                 u'HYDROTYPE': 1,\n",
      "                 u'ISPROCESSE': u'Y',\n",
      "                 u'LASTUPDATE': u'2015/08/21',\n",
      "                 u'OBJECTID': 466459,\n",
      "                 u'OBJECTMODD': u'2015/08/21',\n",
      "                 u'ORIG_FID': 429,\n",
      "                 u'PACKETID': 17960.0,\n",
      "                 u'PERENNIALI': 1,\n",
      "                 u'PLANIMETRI': 10.0,\n",
      "                 u'RECORDSTAT': None,\n",
      "                 u'RELEVANCE': 10,\n",
      "                 u'STARTDATE': u'2015/08/21',\n",
      "                 u'Shape_Area': 0.0,\n",
      "                 u'Shape_Leng': 0.524336034911,\n",
      "                 u'TOPOID': 517337894,\n",
      "                 u'VERTICALAC': 0.0},\n",
      " u'type': u'Feature'}\n"
     ]
    }
   ],
   "source": [
    "print( \"Nr of layers in the dataset:\", env_vec.GetLayerCount() )\n",
    "print( \"Dataset metadata:\", env_vec.GetMetadata() )\n",
    "\n",
    "print( \"\\nLayer description:\", env_lyr.GetDescription() )\n",
    "print( \"Layer extents:\", env_lyr.GetExtent() )\n",
    "print( \"There are\", env_lyr.GetFeatureCount(), \"features in the layer.\" )\n",
    "print( \"Layer metadata:\", env_lyr.GetMetadata() )\n",
    "print( \"Layer CRS:\\n\", env_lyr.GetSpatialRef() )\n",
    "\n",
    "env_feat_X = env_lyr.GetFeature(429)\n",
    "\n",
    "print( \"\\nFeature field count:\", env_feat_X.GetFieldCount() )\n",
    "print( \"Feature fields:\" )\n",
    "pprint( env_feat_X.items() )\n",
    "print( \"\\nFeature coordinates:\\n\", env_feat_X.GetGeometryRef() )\n",
    "\n",
    "print( \"\\nFeature in json format:\" )\n",
    "pprint( json.loads( env_feat_X.ExportToJson() ) )"
   ]
  },
  {
   "cell_type": "markdown",
   "metadata": {},
   "source": [
    "<div class=info>\n",
    "<b>INFO:</b> Subsequently to those files, DPI Water have provided an additional dataset contained in two new .shp files, namely 'NSW_WaterBody.shp' and 'NSW_WaterBody_Envelope.shp', which contain similar data to the files used above, but for a total of 1947 water bodies in NSW; these are investigated further in the notebook <i>'AEWS Python Notebook 08d'</i>.\n",
    "</div>\n",
    "\n",
    "So, using the second .shp file of lakes extents, we can simply extract the desired ROIs for AEWS as follows (we would then simply use this piece of code to determine the lon/lat ranges in our AGDC queries):"
   ]
  },
  {
   "cell_type": "code",
   "execution_count": 7,
   "metadata": {
    "collapsed": false
   },
   "outputs": [
    {
     "name": "stdout",
     "output_type": "stream",
     "text": [
      "Do we have only one layer? True\n",
      "\n",
      "Lat/lon extents for all features:\n",
      "  Feat. 0: LAKE IRONBARK (21297): lat. -33.6960849334...-33.6939385712 / lon. 150.912791081...150.914756425\n",
      "  Feat. 1: LAKE DOUJON (21298): lat. -33.8918578038...-33.8895744451 / lon. 150.847428457...150.850120214\n",
      "  Feat. 2: LAKE PITARPUNGA (8082): lat. -34.4169698285...-34.3186391384 / lon. 143.428375641...143.550909552\n",
      "  Feat. 3: LAKE COOTRALANTRA (2649): lat. -36.2676662472...-36.2565286189 / lon. 148.882132208...148.896117075\n",
      "  Feat. 4: LAKE COOPERS (2635): lat. -36.5345346465...-36.5291472767 / lon. 149.135589624...149.142616936\n",
      "  Feat. 5: LAKE BEARDS (469): lat. -36.6491484954...-36.6296575853 / lon. 149.02652923...149.044251376\n",
      "  Feat. 6: LAKE GREEN (4427): lat. -37.0269602001...-37.0245491853 / lon. 149.260632167...149.263162143\n",
      "  [...]\n",
      "  Feat. 424: LAKE MOONLIGHT (6961): lat. -34.2138197999...-34.1868210278 / lon. 142.910879539...142.942503438\n",
      "  Feat. 425: LAKE RACECOURSE (8357): lat. -35.618858643...-35.6017787118 / lon. 143.772276072...143.799474643\n",
      "  Feat. 426: LAKE YARTLA (11147): lat. -33.1541025016...-33.1078462594 / lon. 142.189555337...142.227541053\n",
      "  Feat. 427: LAKE TRAVELLERS (10046): lat. -33.3550477945...-33.240343006 / lon. 141.927363061...142.059715353\n",
      "  Feat. 428: LAKE GARNPUNG (4056): lat. -33.589942888...-33.3547589392 / lon. 143.023300019...143.302859325\n",
      "  Feat. 429: LAKE GRAHAMSTOWN (4380): lat. -32.7694036189...-32.693869181 / lon. 151.770721942...151.844189421\n"
     ]
    }
   ],
   "source": [
    "env_file = '../NSW_lakes/NSW_Lakes_envelope.shp'\n",
    "env_vec = ogr.Open(env_file)\n",
    "env_lyr = env_vec.GetLayer(0)\n",
    "print( \"Do we have only one layer?\", env_vec.GetLayerCount()==1)\n",
    "print( \"\\nLat/lon extents for all features:\")\n",
    "\n",
    "kk_lim = 7   # just to reduce outputs...\n",
    "n_ftr = env_lyr.GetFeatureCount()\n",
    "for kk in range( n_ftr ):\n",
    "    if kk==kk_lim:\n",
    "        print(\"  [...]\")\n",
    "    elif kk<kk_lim or kk>n_ftr-kk_lim:\n",
    "        ftr = env_lyr.GetFeature(kk)\n",
    "        ftr_json = json.loads(ftr.ExportToJson())\n",
    "        coords = np.array( ftr_json['geometry']['coordinates'][0] )\n",
    "        min_lat = min(coords[:,1])\n",
    "        max_lat = max(coords[:,1])\n",
    "        min_lon = min(coords[:,0])\n",
    "        max_lon = max(coords[:,0])\n",
    "        \n",
    "        lake_name = ftr_json['properties']['HYDRONAME']\n",
    "        lake_type = ftr_json['properties']['HYDRONAMET']\n",
    "        lake_nr = ftr_json['properties']['HYDRONAMEO']\n",
    "        \n",
    "        print( \"  Feat. {}:\".format(kk), lake_type, lake_name, \"({}):\".format(lake_nr),\n",
    "               \"lat. {}...{} / lon. {}...{}\".format(min_lat,max_lat,min_lon,max_lon) )"
   ]
  }
 ],
 "metadata": {
  "kernelspec": {
   "display_name": "Python 2",
   "language": "python",
   "name": "python2"
  },
  "language_info": {
   "codemirror_mode": {
    "name": "ipython",
    "version": 2
   },
   "file_extension": ".py",
   "mimetype": "text/x-python",
   "name": "python",
   "nbconvert_exporter": "python",
   "pygments_lexer": "ipython2",
   "version": "2.7.12"
  }
 },
 "nbformat": 4,
 "nbformat_minor": 0
}
